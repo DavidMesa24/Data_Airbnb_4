{
 "cells": [
  {
   "cell_type": "markdown",
   "metadata": {},
   "source": [
    "## L1: La significancia estadística y los intervalos de confianza \n",
    "# Author: \n",
    "\n",
    "De acuerdo con nuestro caso de proyecto de Airbnb, queremos inferir o comprobar si la hipótesis de diferencias de precios entre habitaciones de 2 cuartos en la zona central oeste y central norte son significativas. \n",
    "\n",
    "### Objetivos\n",
    "1. Construir un intervalo de confianza\n",
    "2. Aplicar la validación de hipótesis\n",
    "3. Aplicar un p-test para la comparación de muestras\n"
   ]
  },
  {
   "cell_type": "markdown",
   "metadata": {},
   "source": [
    "### 1. Contexto del caso\n",
    "La organización Airbnb ha visto que los barrios centrales Centrum-Oost y Centrum-West, a pesar de ser centro, tienen unos cambios de precios que tienden a variar la catidad de reservas de una zona a otra. Airbnb te solicita identificar si las diferencias de precios que se ven entre la zona central-oriental (Centrum-Oost) y la zona central-occidental(Centrum-West) son significativas. Ellos tienen especial foco en comparar apartamentos de 2 alcobas. \n",
    "\n",
    "### 2. Importación de librerías y archivos\n",
    "En las siguientes líneas de código se importaran los materiales de trabajo necesarios para desarrollar el caso de uso, en esto se incluyen las *librerías y los datos*"
   ]
  },
  {
   "cell_type": "code",
   "execution_count": 11,
   "metadata": {},
   "outputs": [],
   "source": [
    "# Importar las librerías necesarias según el análisis que se vaya a realizar\n",
    "# Librería para comando de sistema\n",
    "import os\n",
    "# Librería para manejo de datos\n",
    "import pandas as pd\n",
    "#librería para cálculos numéricos\n",
    "import numpy as np\n",
    "# Calcular el test estadístico\n",
    "from statsmodels.stats import weightstats as stests\n",
    "#librería para graficar\n",
    "import matplotlib.pyplot as plt"
   ]
  },
  {
   "cell_type": "code",
   "execution_count": 12,
   "metadata": {},
   "outputs": [],
   "source": [
    "# cargar los datos en csv\n",
    "data= pd.read_csv('listings_m2.csv', sep=';',encoding='latin-1', low_memory=False)"
   ]
  },
  {
   "cell_type": "markdown",
   "metadata": {},
   "source": [
    "Es importante tener en cuenta la visualización de los datos porque además de contexto se puede entender mucho mejor de qué se está hablando y qué tipos de datos se han cargado desde la máquina"
   ]
  },
  {
   "cell_type": "code",
   "execution_count": 13,
   "metadata": {
    "scrolled": true
   },
   "outputs": [
    {
     "data": {
      "text/html": [
       "<div>\n",
       "<style scoped>\n",
       "    .dataframe tbody tr th:only-of-type {\n",
       "        vertical-align: middle;\n",
       "    }\n",
       "\n",
       "    .dataframe tbody tr th {\n",
       "        vertical-align: top;\n",
       "    }\n",
       "\n",
       "    .dataframe thead th {\n",
       "        text-align: right;\n",
       "    }\n",
       "</style>\n",
       "<table border=\"1\" class=\"dataframe\">\n",
       "  <thead>\n",
       "    <tr style=\"text-align: right;\">\n",
       "      <th></th>\n",
       "      <th>id</th>\n",
       "      <th>listing_url</th>\n",
       "      <th>scrape_id</th>\n",
       "      <th>last_scraped</th>\n",
       "      <th>name</th>\n",
       "      <th>description</th>\n",
       "      <th>neighborhood_overview</th>\n",
       "      <th>picture_url</th>\n",
       "      <th>host_id</th>\n",
       "      <th>host_url</th>\n",
       "      <th>...</th>\n",
       "      <th>review_scores_communication</th>\n",
       "      <th>review_scores_location</th>\n",
       "      <th>review_scores_value</th>\n",
       "      <th>license</th>\n",
       "      <th>instant_bookable</th>\n",
       "      <th>calculated_host_listings_count</th>\n",
       "      <th>calculated_host_listings_count_entire_homes</th>\n",
       "      <th>calculated_host_listings_count_private_rooms</th>\n",
       "      <th>calculated_host_listings_count_shared_rooms</th>\n",
       "      <th>reviews_per_month</th>\n",
       "    </tr>\n",
       "  </thead>\n",
       "  <tbody>\n",
       "    <tr>\n",
       "      <th>0</th>\n",
       "      <td>2818</td>\n",
       "      <td>https://www.airbnb.com/rooms/2818</td>\n",
       "      <td>2,02104E+13</td>\n",
       "      <td>12/04/2021</td>\n",
       "      <td>Quiet Garden View Room &amp; Super Fast WiFi</td>\n",
       "      <td>Quiet Garden View Room &amp; Super Fast WiFi&lt;br /&gt;...</td>\n",
       "      <td>Indische Buurt (\"Indies Neighborhood\") is a ne...</td>\n",
       "      <td>https://a0.muscache.com/pictures/10272854/8dcc...</td>\n",
       "      <td>3159</td>\n",
       "      <td>https://www.airbnb.com/users/show/3159</td>\n",
       "      <td>...</td>\n",
       "      <td>10.0</td>\n",
       "      <td>9.0</td>\n",
       "      <td>10.0</td>\n",
       "      <td>NaN</td>\n",
       "      <td>t</td>\n",
       "      <td>1</td>\n",
       "      <td>0</td>\n",
       "      <td>1</td>\n",
       "      <td>0</td>\n",
       "      <td>1.90</td>\n",
       "    </tr>\n",
       "    <tr>\n",
       "      <th>1</th>\n",
       "      <td>20168</td>\n",
       "      <td>https://www.airbnb.com/rooms/20168</td>\n",
       "      <td>2,02104E+13</td>\n",
       "      <td>12/04/2021</td>\n",
       "      <td>Studio with private bathroom in the centre 1</td>\n",
       "      <td>17th century Dutch townhouse in the heart of t...</td>\n",
       "      <td>Located just in between famous central canals....</td>\n",
       "      <td>https://a0.muscache.com/pictures/69979628/fd6a...</td>\n",
       "      <td>59484</td>\n",
       "      <td>https://www.airbnb.com/users/show/59484</td>\n",
       "      <td>...</td>\n",
       "      <td>10.0</td>\n",
       "      <td>10.0</td>\n",
       "      <td>9.0</td>\n",
       "      <td>0363 CBB3 2C10 0C2A 1E29</td>\n",
       "      <td>t</td>\n",
       "      <td>2</td>\n",
       "      <td>0</td>\n",
       "      <td>2</td>\n",
       "      <td>0</td>\n",
       "      <td>2.50</td>\n",
       "    </tr>\n",
       "    <tr>\n",
       "      <th>2</th>\n",
       "      <td>25428</td>\n",
       "      <td>https://www.airbnb.com/rooms/25428</td>\n",
       "      <td>2,02104E+13</td>\n",
       "      <td>11/04/2021</td>\n",
       "      <td>Lovely, 1 bed apt in Ctr (w.lift) -3/20-6/20(f...</td>\n",
       "      <td>Lovely apt in Centre ( lift &amp; fireplace) near ...</td>\n",
       "      <td>NaN</td>\n",
       "      <td>https://a0.muscache.com/pictures/138431/7079a9...</td>\n",
       "      <td>56142</td>\n",
       "      <td>https://www.airbnb.com/users/show/56142</td>\n",
       "      <td>...</td>\n",
       "      <td>10.0</td>\n",
       "      <td>10.0</td>\n",
       "      <td>10.0</td>\n",
       "      <td>NaN</td>\n",
       "      <td>f</td>\n",
       "      <td>2</td>\n",
       "      <td>2</td>\n",
       "      <td>0</td>\n",
       "      <td>0</td>\n",
       "      <td>0.13</td>\n",
       "    </tr>\n",
       "    <tr>\n",
       "      <th>3</th>\n",
       "      <td>27886</td>\n",
       "      <td>https://www.airbnb.com/rooms/27886</td>\n",
       "      <td>2,02104E+13</td>\n",
       "      <td>11/04/2021</td>\n",
       "      <td>Romantic, stylish B&amp;B houseboat in canal district</td>\n",
       "      <td>Stylish and romantic houseboat on fantastic hi...</td>\n",
       "      <td>Central, quiet, safe, clean and beautiful.</td>\n",
       "      <td>https://a0.muscache.com/pictures/02c2da9d-660e...</td>\n",
       "      <td>97647</td>\n",
       "      <td>https://www.airbnb.com/users/show/97647</td>\n",
       "      <td>...</td>\n",
       "      <td>10.0</td>\n",
       "      <td>10.0</td>\n",
       "      <td>10.0</td>\n",
       "      <td>0363 974D 4986 7411 88D8</td>\n",
       "      <td>t</td>\n",
       "      <td>1</td>\n",
       "      <td>0</td>\n",
       "      <td>1</td>\n",
       "      <td>0</td>\n",
       "      <td>1.94</td>\n",
       "    </tr>\n",
       "    <tr>\n",
       "      <th>4</th>\n",
       "      <td>28871</td>\n",
       "      <td>https://www.airbnb.com/rooms/28871</td>\n",
       "      <td>2,02104E+13</td>\n",
       "      <td>13/04/2021</td>\n",
       "      <td>Comfortable double room</td>\n",
       "      <td>&lt;b&gt;The space&lt;/b&gt;&lt;br /&gt;In a monumental house ri...</td>\n",
       "      <td>Flower market , Leidseplein , Rembrantsplein</td>\n",
       "      <td>https://a0.muscache.com/pictures/160889/362340...</td>\n",
       "      <td>124245</td>\n",
       "      <td>https://www.airbnb.com/users/show/124245</td>\n",
       "      <td>...</td>\n",
       "      <td>10.0</td>\n",
       "      <td>10.0</td>\n",
       "      <td>10.0</td>\n",
       "      <td>0363 607B EA74 0BD8 2F6F</td>\n",
       "      <td>f</td>\n",
       "      <td>2</td>\n",
       "      <td>0</td>\n",
       "      <td>2</td>\n",
       "      <td>0</td>\n",
       "      <td>2.59</td>\n",
       "    </tr>\n",
       "  </tbody>\n",
       "</table>\n",
       "<p>5 rows × 74 columns</p>\n",
       "</div>"
      ],
      "text/plain": [
       "      id                         listing_url    scrape_id last_scraped  \\\n",
       "0   2818   https://www.airbnb.com/rooms/2818  2,02104E+13   12/04/2021   \n",
       "1  20168  https://www.airbnb.com/rooms/20168  2,02104E+13   12/04/2021   \n",
       "2  25428  https://www.airbnb.com/rooms/25428  2,02104E+13   11/04/2021   \n",
       "3  27886  https://www.airbnb.com/rooms/27886  2,02104E+13   11/04/2021   \n",
       "4  28871  https://www.airbnb.com/rooms/28871  2,02104E+13   13/04/2021   \n",
       "\n",
       "                                                name  \\\n",
       "0           Quiet Garden View Room & Super Fast WiFi   \n",
       "1       Studio with private bathroom in the centre 1   \n",
       "2  Lovely, 1 bed apt in Ctr (w.lift) -3/20-6/20(f...   \n",
       "3  Romantic, stylish B&B houseboat in canal district   \n",
       "4                            Comfortable double room   \n",
       "\n",
       "                                         description  \\\n",
       "0  Quiet Garden View Room & Super Fast WiFi<br />...   \n",
       "1  17th century Dutch townhouse in the heart of t...   \n",
       "2  Lovely apt in Centre ( lift & fireplace) near ...   \n",
       "3  Stylish and romantic houseboat on fantastic hi...   \n",
       "4  <b>The space</b><br />In a monumental house ri...   \n",
       "\n",
       "                               neighborhood_overview  \\\n",
       "0  Indische Buurt (\"Indies Neighborhood\") is a ne...   \n",
       "1  Located just in between famous central canals....   \n",
       "2                                                NaN   \n",
       "3         Central, quiet, safe, clean and beautiful.   \n",
       "4       Flower market , Leidseplein , Rembrantsplein   \n",
       "\n",
       "                                         picture_url  host_id  \\\n",
       "0  https://a0.muscache.com/pictures/10272854/8dcc...     3159   \n",
       "1  https://a0.muscache.com/pictures/69979628/fd6a...    59484   \n",
       "2  https://a0.muscache.com/pictures/138431/7079a9...    56142   \n",
       "3  https://a0.muscache.com/pictures/02c2da9d-660e...    97647   \n",
       "4  https://a0.muscache.com/pictures/160889/362340...   124245   \n",
       "\n",
       "                                   host_url  ... review_scores_communication  \\\n",
       "0    https://www.airbnb.com/users/show/3159  ...                        10.0   \n",
       "1   https://www.airbnb.com/users/show/59484  ...                        10.0   \n",
       "2   https://www.airbnb.com/users/show/56142  ...                        10.0   \n",
       "3   https://www.airbnb.com/users/show/97647  ...                        10.0   \n",
       "4  https://www.airbnb.com/users/show/124245  ...                        10.0   \n",
       "\n",
       "  review_scores_location review_scores_value                   license  \\\n",
       "0                    9.0                10.0                       NaN   \n",
       "1                   10.0                 9.0  0363 CBB3 2C10 0C2A 1E29   \n",
       "2                   10.0                10.0                       NaN   \n",
       "3                   10.0                10.0  0363 974D 4986 7411 88D8   \n",
       "4                   10.0                10.0  0363 607B EA74 0BD8 2F6F   \n",
       "\n",
       "  instant_bookable calculated_host_listings_count  \\\n",
       "0                t                              1   \n",
       "1                t                              2   \n",
       "2                f                              2   \n",
       "3                t                              1   \n",
       "4                f                              2   \n",
       "\n",
       "  calculated_host_listings_count_entire_homes  \\\n",
       "0                                           0   \n",
       "1                                           0   \n",
       "2                                           2   \n",
       "3                                           0   \n",
       "4                                           0   \n",
       "\n",
       "  calculated_host_listings_count_private_rooms  \\\n",
       "0                                            1   \n",
       "1                                            2   \n",
       "2                                            0   \n",
       "3                                            1   \n",
       "4                                            2   \n",
       "\n",
       "  calculated_host_listings_count_shared_rooms reviews_per_month  \n",
       "0                                           0              1.90  \n",
       "1                                           0              2.50  \n",
       "2                                           0              0.13  \n",
       "3                                           0              1.94  \n",
       "4                                           0              2.59  \n",
       "\n",
       "[5 rows x 74 columns]"
      ]
     },
     "execution_count": 13,
     "metadata": {},
     "output_type": "execute_result"
    }
   ],
   "source": [
    "#visualizar los primeros registros\n",
    "data.head(5)"
   ]
  },
  {
   "cell_type": "markdown",
   "metadata": {},
   "source": [
    "### 3. Intervalo de confianza\n",
    "El intervalo de confianza (IC) es esencial en las estadísticas y muy importante para los científicos de datos. \n",
    "Como suena, el intervalo de confianza es un rango de valores. En condiciones ideales, debe contener la mejor estimación de un parámetro estadístico. Se expresa como porcentaje. El intervalo de confianza del 95% es el más común. Puede utilizar otros valores como 97%, 90%, 75% o incluso 99% de intervalo de confianza si su investigación lo exige.\n",
    "\n",
    "En las siguientes líneas vamos a calcular el intervalo de confianza para el valor de flete medio de todos los envíos\n",
    "\n",
    "Primero obtener los valores necesarios para su cálculo:\n",
    "* 𝑋=𝑀𝑒𝑑𝑖𝑎 𝑑𝑒 𝑙𝑎 𝑚𝑢𝑒𝑠𝑡𝑟𝑎 \n",
    "* 𝛼=𝑆𝑖𝑔𝑛𝑖𝑓𝑖𝑐𝑎𝑛𝑐𝑖𝑎\n",
    "* 𝜎=𝐷𝑒𝑠𝑣𝑖𝑎𝑐𝑖ó𝑛 𝐸𝑠𝑡𝑎𝑛𝑑𝑎𝑟\n",
    "* 𝑛=𝑇𝑎𝑚𝑎ñ𝑜 𝑑𝑒 𝑙𝑎 𝑚𝑢𝑒𝑠𝑡𝑟𝑎 \n",
    "* 𝑧=𝑉𝑎𝑙𝑜𝑟 𝑑𝑒 𝑧𝑇𝑒𝑠𝑡"
   ]
  },
  {
   "cell_type": "code",
   "execution_count": 15,
   "metadata": {},
   "outputs": [
    {
     "data": {
      "text/plain": [
       "[152.23269065972573, 156.75906249595448]"
      ]
     },
     "execution_count": 15,
     "metadata": {},
     "output_type": "execute_result"
    }
   ],
   "source": [
    "#Media de la muestra\n",
    "x=data['price'].mean()\n",
    "#significancia\n",
    "alpha=0.05 #para tener el 95% de confianza\n",
    "# Desviación estándar\n",
    "sigma=data['price'].std()\n",
    "# Tamaño de la muestra\n",
    "n=len(data['price'])\n",
    "#Valor del test \n",
    "z=1.96\n",
    "\n",
    "#error estándar\n",
    "error_estandar = sigma /np.sqrt(n)\n",
    "#cálculo intervalos de confianza\n",
    "limite_inferior = x - z* error_estandar  \n",
    "limite_superior = x + z* error_estandar\n",
    "#Almacenar los dos límites del intervalo\n",
    "intervalo=[limite_inferior, limite_superior]\n",
    "intervalo"
   ]
  },
  {
   "cell_type": "markdown",
   "metadata": {},
   "source": [
    "### 5. Z-test\n",
    "Te recomendamos utilizar el Z-Test en tus pruebas"
   ]
  },
  {
   "cell_type": "code",
   "execution_count": 16,
   "metadata": {
    "scrolled": true
   },
   "outputs": [
    {
     "data": {
      "text/plain": [
       "<AxesSubplot:xlabel='neighbourhood_cleansed'>"
      ]
     },
     "execution_count": 16,
     "metadata": {},
     "output_type": "execute_result"
    },
    {
     "data": {
      "image/png": "[encoded data removed]",
      "text/plain": [
       "<Figure size 432x288 with 1 Axes>"
      ]
     },
     "metadata": {
      "needs_background": "light"
     },
     "output_type": "display_data"
    }
   ],
   "source": [
    "# Elegir las zonas\n",
    "data_price=data.groupby('neighbourhood_cleansed').mean().reset_index()[['neighbourhood_cleansed','price']]\n",
    "#graficar las zonas por promedios\n",
    "data_price.plot.bar(x='neighbourhood_cleansed', y='price')"
   ]
  },
  {
   "cell_type": "code",
   "execution_count": 18,
   "metadata": {
    "scrolled": true
   },
   "outputs": [
    {
     "name": "stdout",
     "output_type": "stream",
     "text": [
      "Promedio CO: 180.0241610738255\n",
      "Promedio CW: 179.62563067608477\n"
     ]
    }
   ],
   "source": [
    "#Mostrar promedio de Centrum-Oost y Centrum-West,\n",
    "price_CO=data[data['neighbourhood_cleansed']=='Centrum-Oost']['price']\n",
    "price_CW=data[data['neighbourhood_cleansed']=='Centrum-West']['price']\n",
    "print('Promedio CO: '+str(price_CO.mean()))\n",
    "print('Promedio CW: '+str(price_CW.mean()))"
   ]
  },
  {
   "cell_type": "code",
   "execution_count": 19,
   "metadata": {},
   "outputs": [
    {
     "name": "stdout",
     "output_type": "stream",
     "text": [
      "Valor de z: 0.06120701278442445\n",
      "Valor p: 0.9511943448120572\n"
     ]
    }
   ],
   "source": [
    "# Valores de z y p\n",
    "ztest ,pval1 = stests.ztest(price_CO, x2=price_CW, value=0,alternative='two-sided')\n",
    "print('Valor de z: '+str(ztest))\n",
    "print('Valor p: '+ str(pval1))"
   ]
  },
  {
   "cell_type": "code",
   "execution_count": 20,
   "metadata": {},
   "outputs": [
    {
     "name": "stdout",
     "output_type": "stream",
     "text": [
      "No rechazar hipótesis nula\n"
     ]
    }
   ],
   "source": [
    "# Regla de decisión si el p valor es menor que la significancia escogida \n",
    "confianza=0.95\n",
    "significancia=1-confianza\n",
    "# Si se tiene menor valor se rechaza la hipótesis nula\n",
    "if pval1<significancia:\n",
    "    print(\"Rechazar hipótesis nula\")\n",
    "else:\n",
    "    print(\"No rechazar hipótesis nula\")"
   ]
  },
  {
   "cell_type": "markdown",
   "metadata": {},
   "source": [
    "Por lo tanto podemos inferir con un nivel de confianza del 95% que los promedios del valor de habitacion entre estas dos zonas para apartamentos de dos alcobas es estadíticamente similar."
   ]
  },
  {
   "cell_type": "code",
   "execution_count": null,
   "metadata": {},
   "outputs": [],
   "source": []
  }
 ],
 "metadata": {
  "kernelspec": {
   "display_name": "Python 3 (ipykernel)",
   "language": "python",
   "name": "python3"
  },
  "language_info": {
   "codemirror_mode": {
    "name": "ipython",
    "version": 3
   },
   "file_extension": ".py",
   "mimetype": "text/x-python",
   "name": "python",
   "nbconvert_exporter": "python",
   "pygments_lexer": "ipython3",
   "version": "3.9.7"
  }
 },
 "nbformat": 4,
 "nbformat_minor": 2
}
